{
 "cells": [
  {
   "cell_type": "markdown",
   "metadata": {},
   "source": [
    "EXTRAINDO OS MANDADOS A PARTIR DA SEGUNDA PÁGINA \n",
    "----------------------------------------"
   ]
  },
  {
   "cell_type": "code",
   "execution_count": 2,
   "metadata": {},
   "outputs": [],
   "source": [
    "#bibliotecas \n",
    "from selenium import webdriver \n",
    "from selenium.webdriver.common.keys import Keys\n",
    "import chromedriver_binary \n",
    "from time import sleep\n",
    "import warnings\n",
    "warnings.filterwarnings(\"ignore\")"
   ]
  },
  {
   "cell_type": "code",
   "execution_count": 3,
   "metadata": {},
   "outputs": [],
   "source": [
    "url='https://portalbnmp.cnj.jus.br/#/pesquisa-peca' #url do site\n",
    "driver=webdriver.Chrome()                           #driver utilizado --> Chrome\n",
    "driver.get(url)"
   ]
  },
  {
   "cell_type": "markdown",
   "metadata": {},
   "source": [
    "##  ATENÇÃO!\n",
    "#### Após aberto o navegador, será necessário realização do CAPTCHA e depois disso rode as células abaixo.\n",
    "\n",
    "\n",
    "\n",
    "\n",
    "##### DESAFIO FUTURO: resolver CAPTCHA com Selenium"
   ]
  },
  {
   "cell_type": "code",
   "execution_count": 5,
   "metadata": {},
   "outputs": [],
   "source": [
    "setinha=driver.find_element_by_xpath('//*[@id=\"ui-fieldset-1-content\"]/div/form/div[6]/div/p-dropdown/div/div[2]')\n",
    "setinha.click()"
   ]
  },
  {
   "cell_type": "code",
   "execution_count": 6,
   "metadata": {},
   "outputs": [],
   "source": [
    "estado='Acre'"
   ]
  },
  {
   "cell_type": "code",
   "execution_count": 7,
   "metadata": {},
   "outputs": [],
   "source": [
    "input_=driver.find_element_by_xpath('//*[@id=\"ui-fieldset-1-content\"]/div/form/div[6]/div/p-dropdown/div/div[3]/div[1]/input')\n",
    "input_.send_keys(estado)"
   ]
  },
  {
   "cell_type": "code",
   "execution_count": 8,
   "metadata": {},
   "outputs": [],
   "source": [
    "press=driver.find_element_by_xpath('//*[@id=\"ui-fieldset-1-content\"]/div/form/div[6]/div/p-dropdown/div/div[3]/div[2]/ul/li')\n",
    "press.click()"
   ]
  },
  {
   "cell_type": "code",
   "execution_count": 9,
   "metadata": {},
   "outputs": [],
   "source": [
    "button=driver.find_element_by_xpath('//*[@id=\"ui-fieldset-1-content\"]/div/form/div[14]/button[2]')\n",
    "button.click()"
   ]
  },
  {
   "cell_type": "code",
   "execution_count": 10,
   "metadata": {},
   "outputs": [
    {
     "data": {
      "text/plain": [
       "'0200196-92.2008.8.01.0004.01.0001-13 José Luiz Cunha Pendente de Cumprimento 16/04/2013 1ª VARA DO TRIBUNAL DO JÚRI DE RIO BRANCO Mandado de Prisão'"
      ]
     },
     "execution_count": 10,
     "metadata": {},
     "output_type": "execute_result"
    }
   ],
   "source": [
    "mandados=[] #lista par armazenar os mandados\n",
    "\n",
    "for m in range(1,6): \n",
    "    pagina=driver.find_element_by_xpath('/html/body/app-root/div/div/div[2]/div/app-pesquisa-peca/div[1]/p-datatable/div/p-paginator/div/span/a['+ str(m)+']')\n",
    "    pagina.click()\n",
    "    sleep(2)\n",
    "    for m in range(1,11):\n",
    "        xpath='/html/body/app-root/div/div/div[2]/div/app-pesquisa-peca/div[1]/p-datatable/div/div[1]/table/tbody/tr['+str(m)+']'\n",
    "        info=driver.find_element_by_xpath(xpath)\n",
    "        texto=info.text\n",
    "        mandados.append(texto)\n",
    "    \n",
    "mandados[49]    "
   ]
  },
  {
   "cell_type": "code",
   "execution_count": 11,
   "metadata": {},
   "outputs": [
    {
     "data": {
      "text/plain": [
       "['0000210-49.2021.8.01.0022.10.0001-09 Evelim Sayonaira Silva Oliveira Pendente de Cumprimento 14/12/2021 VARA ÚNICA DE PORTO ACRE Mandado de Internação',\n",
       " '0004396-57.2016.8.01.0001.10.0001-25 José Rosario Magalhães do Nascimento Pendente de Cumprimento 04/06/2019 VARA DE EXECUÇÕES PENAIS DE RIO BRANCO Mandado de Internação',\n",
       " '0013842-21.2015.8.01.0001.10.0001-10 Cleiton Alves Bardales Pendente de Cumprimento 27/09/2022 VARA DE EXECUÇÕES PENAIS DE RIO BRANCO Mandado de Internação',\n",
       " '9000007-24.2022.8.01.0013.10.0001-14 Isaquiel Nascimento Pendente de Cumprimento 11/10/2022 VARA CRIMINAL DE FEIJÓ Mandado de Internação',\n",
       " '0012284-14.2015.8.01.0001.10.0001-15 Rosa Maria Alves de Oliveira Pendente de Cumprimento 08/08/2019 VARA DE EXECUÇÕES PENAIS DE RIO BRANCO Mandado de Internação',\n",
       " '0800052-79.2021.8.01.0015.10.0001-12 Richard da Silva Azevedo Pendente de Cumprimento 23/03/2022 VARA ÚNICA DE MÂNCIO LIMA Mandado de Internação',\n",
       " '0012612-07.2016.8.01.0001.10.0001-19 Rick Marques da Silva Pendente de Cumprimento 31/08/2022 VARA DE EXECUÇÕES PENAIS DE RIO BRANCO Mandado de Internação',\n",
       " '0019279-58.2006.8.01.0001.10.0002-03 Marcos Nilton de Souza Ferreira Pendente de Cumprimento 30/09/2022 VARA DE EXECUÇÕES PENAIS DE RIO BRANCO Mandado de Internação',\n",
       " '0004054-12.2017.8.01.0001.01.0001-01 Cássio dos Santos Araújo Pendente de Cumprimento 25/02/2018 4ª VARA CRIMINAL DE RIO BRANCO Mandado de Prisão',\n",
       " '0700386-19.2018.8.01.0013.01.0001-17 Antônio Alberto da Silva Passos Pendente de Cumprimento 15/05/2018 VARA CÍVEL DE FEIJÓ Mandado de Prisão',\n",
       " '0010812-22.2008.8.01.0001.01.0001-03 Eliezer Alves de Souza Pendente de Cumprimento 21/09/2015 VARA DE EXECUÇÕES PENAS E MEDIDAS ALTERNATIVAS DE RIO BRANCO Mandado de Prisão',\n",
       " '0009796-52.2016.8.01.0001.01.0003-05 Francisco Igo Costa Silva Pendente de Cumprimento 16/12/2016 VARA DE EXECUÇÕES PENAIS DE RIO BRANCO Mandado de Prisão',\n",
       " '0005559-72.2016.8.01.0001.01.0003-18 Zildoval da Silva Lima Pendente de Cumprimento 17/02/2017 VARA DE EXECUÇÕES PENAIS DE RIO BRANCO Mandado de Prisão',\n",
       " '0000038-25.2016.8.01.0009.01.0001-15 Devid de França Aguiar Pendente de Cumprimento 21/03/2018 VARA CRIMINAL DE SENADOR GUIOMARD Mandado de Prisão',\n",
       " '0008544-48.2015.8.01.0001.01.0003-02 José Antônio Beraun Alva Pendente de Cumprimento 25/04/2017 VARA DE EXECUÇÕES PENAIS DE RIO BRANCO Mandado de Prisão',\n",
       " '0007455-29.2011.8.01.0001.01.0003-01 Marcelo Dias Carneiro Pendente de Cumprimento 12/05/2017 VARA DE EXECUÇÕES PENAIS DE RIO BRANCO Mandado de Prisão',\n",
       " '0010718-64.2014.8.01.0001.01.0003-16 Alexsandro de Souza Pendente de Cumprimento 30/05/2017 VARA DE EXECUÇÕES PENAIS DE RIO BRANCO Mandado de Prisão',\n",
       " '0000532-52.2014.8.01.0010.01.0001-26 Adson da Costa Maia Pendente de Cumprimento 21/03/2018 VARA ÚNICA DE BUJARI Mandado de Prisão',\n",
       " '0000693-91.2016.8.01.0010.01.0001-13 Eleildo da Silva Nascimento Pendente de Cumprimento 21/03/2018 VARA ÚNICA DE BUJARI Mandado de Prisão',\n",
       " '0000429-30.2009.8.01.0007.01.0001-16 Elielson Eremite da Silva Pendente de Cumprimento 12/11/2013 VARA DE EXECUÇÕES PENAIS DE RIO BRANCO Mandado de Prisão',\n",
       " '0016594-15.2005.8.01.0001.01.0001-08 Nazareno Veras Lima Pendente de Cumprimento 19/02/2014 VARA DE EXECUÇÕES PENAIS DE RIO BRANCO Mandado de Prisão',\n",
       " '0000025-40.2018.8.01.0014.01.0001-14 Charles Vieira da Silva \"Scorpion\" Pendente de Cumprimento 14/03/2018 VARA CRIMINAL DE TARAUACÁ Mandado de Prisão',\n",
       " '0000958-49.2018.8.01.0002.01.0001-20 Selmire de Andrade Ferreira Pendente de Cumprimento 11/03/2018 1ª VARA CRIMINAL DE CRUZEIRO DO SUL Mandado de Prisão',\n",
       " '0011538-93.2008.8.01.0001.01.0001-07 Nelson Vieira da Silva Pendente de Cumprimento 23/10/2012 VARA DE EXECUÇÕES PENAS E MEDIDAS ALTERNATIVAS DE RIO BRANCO Mandado de Prisão',\n",
       " '0029799-48.2004.8.01.0001.01.0001-22 Francisco Alves de Lima Pendente de Cumprimento 18/12/2012 VARA DE EXECUÇÕES PENAS E MEDIDAS ALTERNATIVAS DE RIO BRANCO Mandado de Prisão',\n",
       " '0021568-22.2010.8.01.0001.01.0001-03 Hamilton Pereira Lopes Pendente de Cumprimento 24/03/2018 VARA DE EXECUÇÕES PENAIS DE RIO BRANCO Mandado de Prisão',\n",
       " '0000596-84.2017.8.01.0001.01.0007-04 ELIVANE PEREIRA DE SOUSA Pendente de Cumprimento 24/03/2018 VARA DE EXECUÇÕES PENAIS DE RIO BRANCO Mandado de Prisão',\n",
       " '0012897-97.2016.8.01.0001.01.0003-25 Luiz Martins de Andrade Pendente de Cumprimento 26/03/2018 VARA DE EXECUÇÕES PENAIS DE RIO BRANCO Mandado de Prisão',\n",
       " '0017039-57.2010.8.01.0001.01.0003-09 Anaildo de Souza Oliveira Pendente de Cumprimento 26/03/2018 VARA DE EXECUÇÕES PENAIS DE RIO BRANCO Mandado de Prisão',\n",
       " '0030518-20.2010.8.01.0001.01.0003-00 Suede da Silva Gomes Pendente de Cumprimento 18/07/2017 VARA DE EXECUÇÕES PENAIS DE RIO BRANCO Mandado de Prisão',\n",
       " '0005421-71.2017.8.01.0001.01.0003-09 Luis Angel Pezo Arellano Pendente de Cumprimento 24/09/2017 VARA DE EXECUÇÕES PENAIS DE RIO BRANCO Mandado de Prisão',\n",
       " '0000543-31.2002.8.01.0001.01.0003-23 Francisco Chagas dos Santos Pendente de Cumprimento 28/09/2017 VARA DE EXECUÇÕES PENAIS DE RIO BRANCO Mandado de Prisão',\n",
       " '0000306-49.2011.8.01.0011.01.0001-18 Francisco Souza Pereira Pendente de Cumprimento 08/04/2014 VARA CRIMINAL DE SENA MADUREIRA Mandado de Prisão',\n",
       " '0000189-68.2005.8.01.0011.01.0001-24 Egildo Oliveira Granjeiro Pendente de Cumprimento 23/06/2014 VARA CRIMINAL DE SENA MADUREIRA Mandado de Prisão',\n",
       " '0000480-92.2010.8.01.0011.01.0001-15 Francisco Gonçalves da Silva Pendente de Cumprimento 05/05/2016 VARA CRIMINAL DE SENA MADUREIRA Mandado de Prisão',\n",
       " '0703913-49.2017.8.01.0001.01.0001-02 Antonio Paulo Silva do Nascimento Pendente de Cumprimento 28/03/2018 1ª VARA DE FAMÍLIA DE RIO BRANCO Mandado de Prisão',\n",
       " '0010451-58.2015.8.01.0001.01.0003-15 Paulo Rebouças Oliveira Júnior Pendente de Cumprimento 29/10/2017 VARA DE EXECUÇÕES PENAIS DE RIO BRANCO Mandado de Prisão',\n",
       " '0014006-49.2016.8.01.0001.01.0003-00 Rodemilson Gomes do Nascimento Pendente de Cumprimento 10/01/2018 VARA DE EXECUÇÕES PENAIS DE RIO BRANCO Mandado de Prisão',\n",
       " '0000709-38.2017.8.01.0001.01.0003-23 Thiago Silva de Oliveira Pendente de Cumprimento 20/11/2017 VARA DE EXECUÇÕES PENAIS DE RIO BRANCO Mandado de Prisão',\n",
       " '0007767-05.2011.8.01.0001.01.0003-18 Luciano da Cunha Afonso Pendente de Cumprimento 22/12/2017 VARA DE EXECUÇÕES PENAIS DE RIO BRANCO Mandado de Prisão',\n",
       " '0006176-03.2014.8.01.0001.01.0003-04 Sadac de Paula Urbano Pendente de Cumprimento 06/03/2016 VARA DE EXECUÇÕES PENAS E MEDIDAS ALTERNATIVAS DE RIO BRANCO Mandado de Prisão',\n",
       " '0000962-30.2011.8.01.0003.01.0003-24 Roberto Olavo Juari Jaminawa Pendente de Cumprimento 05/08/2014 VARA DE EXECUÇÕES PENAIS DE RIO BRANCO Mandado de Prisão',\n",
       " '0001544-31.2014.8.01.0001.01.0003-02 Silvio de Proença Pendente de Cumprimento 14/10/2014 VARA DE EXECUÇÕES PENAIS DE RIO BRANCO Mandado de Prisão',\n",
       " '0000109-72.2012.8.01.0007.01.0003-20 Cristiano Oliveira de Lima Pendente de Cumprimento 05/07/2013 VARA DE EXECUÇÕES PENAIS DE RIO BRANCO Mandado de Prisão',\n",
       " '0009796-52.2016.8.01.0001.01.0003-05 Francisco Igo Costa Silva Pendente de Cumprimento 16/12/2016 VARA DE EXECUÇÕES PENAIS DE RIO BRANCO Mandado de Prisão',\n",
       " '0704208-86.2017.8.01.0001.01.0001-27 Uochiton de Souza Fonseca Pendente de Cumprimento 05/04/2018 1ª VARA DE FAMÍLIA DE RIO BRANCO Mandado de Prisão',\n",
       " '0002031-84.2003.8.01.0001.01.0001-04 Raimundo Nonato da Silva Pendente de Cumprimento 15/04/2013 1ª VARA DO TRIBUNAL DO JÚRI DE RIO BRANCO Mandado de Prisão',\n",
       " '0001694-66.2001.8.01.0001.01.0001-01 Antonio Brito Silva Pendente de Cumprimento 15/04/2013 1ª VARA DO TRIBUNAL DO JÚRI DE RIO BRANCO Mandado de Prisão',\n",
       " '0013697-14.2005.8.01.0001.01.0001-03 Maria Tereza Costa Martins Kaxarari Pendente de Cumprimento 15/04/2013 1ª VARA DO TRIBUNAL DO JÚRI DE RIO BRANCO Mandado de Prisão',\n",
       " '0200196-92.2008.8.01.0004.01.0001-13 José Luiz Cunha Pendente de Cumprimento 16/04/2013 1ª VARA DO TRIBUNAL DO JÚRI DE RIO BRANCO Mandado de Prisão']"
      ]
     },
     "execution_count": 11,
     "metadata": {},
     "output_type": "execute_result"
    }
   ],
   "source": [
    "mandados"
   ]
  },
  {
   "cell_type": "code",
   "execution_count": null,
   "metadata": {},
   "outputs": [],
   "source": []
  }
 ],
 "metadata": {
  "kernelspec": {
   "display_name": "Python 3.9.7 64-bit",
   "language": "python",
   "name": "python3"
  },
  "language_info": {
   "codemirror_mode": {
    "name": "ipython",
    "version": 3
   },
   "file_extension": ".py",
   "mimetype": "text/x-python",
   "name": "python",
   "nbconvert_exporter": "python",
   "pygments_lexer": "ipython3",
   "version": "3.9.7"
  },
  "vscode": {
   "interpreter": {
    "hash": "974c76ea0e2fcf3d11e2bbbee12a65c19e0510e27c4abcf49a2c5853615ff2ff"
   }
  }
 },
 "nbformat": 4,
 "nbformat_minor": 4
}
